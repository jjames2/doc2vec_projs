{
 "cells": [
  {
   "cell_type": "code",
   "execution_count": 83,
   "metadata": {},
   "outputs": [],
   "source": [
    "import json\n",
    "import numpy as np\n",
    "\n",
    "from gensim.test.utils import common_texts\n",
    "from gensim.models.doc2vec import Doc2Vec, TaggedDocument"
   ]
  },
  {
   "cell_type": "code",
   "execution_count": 11,
   "metadata": {},
   "outputs": [],
   "source": [
    "# read file\n",
    "with open('bible.json', 'r') as myfile:\n",
    "    data=myfile.read()\n",
    "\n",
    "# parse file\n",
    "bible_dict = json.loads(data)"
   ]
  },
  {
   "cell_type": "code",
   "execution_count": 12,
   "metadata": {},
   "outputs": [
    {
     "data": {
      "text/plain": [
       "dict_keys(['Ge', 'Ex', 'Le', 'Nu', 'De', 'Jos', 'Jg', 'Ru', '1Sa', '2Sa', '1Ki', '2Ki', '1Ch', '2Ch', 'Ezr', 'Ne', 'Es', 'Job', 'Ps', 'Pr', 'Ec', 'Song', 'Isa', 'Jer', 'La', 'Eze', 'Da', 'Ho', 'Joe', 'Am', 'Ob', 'Jon', 'Mic', 'Na', 'Hab', 'Zep', 'Hag', 'Zec', 'Mal', 'Mt', 'Mr', 'Lu', 'Joh', 'Ac', 'Ro', '1Co', '2Co', 'Ga', 'Eph', 'Php', 'Col', '1Th', '2Th', '1Ti', '2Ti', 'Tit', 'Phm', 'Heb', 'Jas', '1Pe', '2Pe', '1Jo', '2Jo', '3Jo', 'Jude', 'Re'])"
      ]
     },
     "execution_count": 12,
     "metadata": {},
     "output_type": "execute_result"
    }
   ],
   "source": [
    "bible_dict.keys()"
   ]
  },
  {
   "cell_type": "code",
   "execution_count": 13,
   "metadata": {},
   "outputs": [],
   "source": [
    "short2long = {\n",
    "    'Ge':'Genesis',\n",
    "    'Ex':'Exodus',\n",
    "    'Le':'Leviticus',\n",
    "    'Nu':'Numbers',\n",
    "    'De':'Deuteronomy',\n",
    "    'Jos':'Joshua',\n",
    "    'Jg':'Judges',\n",
    "    'Ru':'Ruth',\n",
    "    '1Sa':'1 Samuel',\n",
    "    '2Sa':'2 Samuel',\n",
    "    '1Ki':'1 Kings',\n",
    "    '2Ki':'2 Kings',\n",
    "    '1Ch':'1 Chronicles',\n",
    "    '2Ch':'2 Chronicles',\n",
    "    'Ezr':'Ezra',\n",
    "    'Ne':'Nehemiah',\n",
    "    'Es':'Esther',\n",
    "    'Job':'Job',\n",
    "    'Ps':'Psalms',\n",
    "    'Pr':'Proverbs',\n",
    "    'Ec':'Ecclesiastes',\n",
    "    'Song':'Song of Solomon',\n",
    "    'Isa':'Isaiah',\n",
    "    'Jer':'Jeremiah',\n",
    "    'La':'Lamentations',\n",
    "    'Eze':'Ezekiel',\n",
    "    'Da':'Daniel',\n",
    "    'Ho':'Hosea',\n",
    "    'Joe':'Joel',\n",
    "    'Am':'Amos',\n",
    "    'Ob':'Obadiah',\n",
    "    'Jon':'Jonah',\n",
    "    'Mic':'Micah',\n",
    "    'Na':'Nahum',\n",
    "    'Hab':'Habakkuk',\n",
    "    'Zep':'Zephaniah',\n",
    "    'Hag':'Haggai',\n",
    "    'Zec':'Zechariah',\n",
    "    'Mal':'Malachi',\n",
    "    'Mt':'Matthew',\n",
    "    'Mr':'Mark',\n",
    "    'Lu':'Luke',\n",
    "    'Joh':'John',\n",
    "    'Ac':'Acts',\n",
    "    'Ro':'Romans',\n",
    "    '1Co':'1 Corinthians',\n",
    "    '2Co':'2 Corinthians',\n",
    "    'Ga':'Galatians',\n",
    "    'Eph':'Ephesians',\n",
    "    'Php':'Philippians',\n",
    "    'Col':'Colossians',\n",
    "    '1Th':'1 Thessalonians',\n",
    "    '2Th':'2 Thessalonians',\n",
    "    '1Ti':'1 Timothy',\n",
    "    '2Ti':'2 Timothy',\n",
    "    'Tit':'Titus',\n",
    "    'Phm':'Philemon',\n",
    "    'Heb':'Hebrews',\n",
    "    'Jas':'James',\n",
    "    '1Pe':'1 Peter',\n",
    "    '2Pe':'2 Peter',\n",
    "    '1Jo':'1 John',\n",
    "    '2Jo':'2 John',\n",
    "    '3Jo':'3 John',\n",
    "    'Jude':'Jude',\n",
    "    'Re':'Revelation'\n",
    "}"
   ]
  },
  {
   "cell_type": "code",
   "execution_count": 62,
   "metadata": {},
   "outputs": [],
   "source": [
    "documents = [TaggedDocument(bible_dict[bk], [short2long[bk]]) for bk in list(bible_dict.keys())]\n",
    "model = Doc2Vec(documents, min_count=2, epochs=100)"
   ]
  },
  {
   "cell_type": "code",
   "execution_count": 73,
   "metadata": {},
   "outputs": [
    {
     "data": {
      "text/plain": [
       "[('Philippians', 0.39065104722976685),\n",
       " ('2 Timothy', 0.29214441776275635),\n",
       " ('Philemon', 0.280139297246933),\n",
       " ('Galatians', 0.2727055251598358),\n",
       " ('Amos', 0.24909383058547974),\n",
       " ('Psalms', 0.20347388088703156),\n",
       " ('Hosea', 0.20340344309806824),\n",
       " ('1 Corinthians', 0.19534991681575775),\n",
       " ('Ephesians', 0.16948166489601135),\n",
       " ('Daniel', 0.16765975952148438)]"
      ]
     },
     "execution_count": 73,
     "metadata": {},
     "output_type": "execute_result"
    }
   ],
   "source": [
    "model.docvecs.most_similar(positive=['Luke'],negative=['Acts'])"
   ]
  },
  {
   "cell_type": "code",
   "execution_count": 90,
   "metadata": {},
   "outputs": [],
   "source": [
    "from sklearn.cluster import AgglomerativeClustering"
   ]
  },
  {
   "cell_type": "code",
   "execution_count": 117,
   "metadata": {},
   "outputs": [
    {
     "data": {
      "text/plain": [
       "AgglomerativeClustering(affinity='euclidean', compute_full_tree='auto',\n",
       "                        connectivity=None, distance_threshold=None,\n",
       "                        linkage='average', memory=None, n_clusters=10,\n",
       "                        pooling_func='deprecated')"
      ]
     },
     "execution_count": 117,
     "metadata": {},
     "output_type": "execute_result"
    }
   ],
   "source": [
    "heir = AgglomerativeClustering(linkage='average',\n",
    "        connectivity=None, n_clusters=10)\n",
    "X = model.docvecs.vectors_docs\n",
    "heir.fit(X, y=None)"
   ]
  },
  {
   "cell_type": "code",
   "execution_count": 118,
   "metadata": {},
   "outputs": [],
   "source": [
    "from scipy.cluster.hierarchy import dendrogram\n",
    "\n",
    "def plot_dendrogram(model, **kwargs):\n",
    "\n",
    "    # Children of hierarchical clustering\n",
    "    children = model.children_\n",
    "\n",
    "    # Distances between each pair of children\n",
    "    # Since we don't have this information, we can use a uniform one for plotting\n",
    "    distance = np.arange(children.shape[0])\n",
    "\n",
    "    # The number of observations contained in each cluster level\n",
    "    no_of_observations = np.arange(2, children.shape[0]+2)\n",
    "\n",
    "    # Create linkage matrix and then plot the dendrogram\n",
    "    linkage_matrix = np.column_stack([children, distance, no_of_observations]).astype(float)\n",
    "\n",
    "    # Plot the corresponding dendrogram\n",
    "    dendrogram(linkage_matrix, **kwargs)"
   ]
  },
  {
   "cell_type": "code",
   "execution_count": 119,
   "metadata": {},
   "outputs": [],
   "source": [
    "import matplotlib.pyplot as plt"
   ]
  },
  {
   "cell_type": "code",
   "execution_count": 129,
   "metadata": {},
   "outputs": [
    {
     "data": {
      "image/png": "[encoded data removed]",
      "text/plain": [
       "<Figure size 504x720 with 1 Axes>"
      ]
     },
     "metadata": {
      "needs_background": "light"
     },
     "output_type": "display_data"
    }
   ],
   "source": [
    "fig = plt.figure(figsize=(7,10))\n",
    "plot_dendrogram(heir, labels=list(short2long.values()))\n",
    "plt.savefig('heir.png')"
   ]
  },
  {
   "cell_type": "code",
   "execution_count": null,
   "metadata": {},
   "outputs": [],
   "source": []
  }
 ],
 "metadata": {
  "kernelspec": {
   "display_name": "Python 3",
   "language": "python",
   "name": "python3"
  },
  "language_info": {
   "codemirror_mode": {
    "name": "ipython",
    "version": 3
   },
   "file_extension": ".py",
   "mimetype": "text/x-python",
   "name": "python",
   "nbconvert_exporter": "python",
   "pygments_lexer": "ipython3",
   "version": "3.7.3"
  }
 },
 "nbformat": 4,
 "nbformat_minor": 4
}
